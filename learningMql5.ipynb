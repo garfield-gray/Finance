{
  "nbformat": 4,
  "nbformat_minor": 0,
  "metadata": {
    "colab": {
      "provenance": [],
      "authorship_tag": "ABX9TyPRhye0LiHrTpw493Qa26uC",
      "include_colab_link": true
    },
    "kernelspec": {
      "name": "python3",
      "display_name": "Python 3"
    },
    "language_info": {
      "name": "python"
    }
  },
  "cells": [
    {
      "cell_type": "markdown",
      "metadata": {
        "id": "view-in-github",
        "colab_type": "text"
      },
      "source": [
        "<a href=\"https://colab.research.google.com/github/garfield-gray/Finance/blob/main/learningMql5.ipynb\" target=\"_parent\"><img src=\"https://colab.research.google.com/assets/colab-badge.svg\" alt=\"Open In Colab\"/></a>"
      ]
    },
    {
      "cell_type": "markdown",
      "source": [
        "Sure! Here are some of the most commonly used functions in MQL5 and their descriptions:\n",
        "\n",
        "- `OnTick()`: This function is called every time the price changes for any symbol that the program is subscribed to. It is commonly used for updating indicator values and making trading decisions based on real-time market conditions.\n",
        "\n",
        "- `OnCalculate()`: This function is called when an indicator is calculated or re-calculated. It is used to perform custom calculations on the indicator values and can be helpful for creating custom indicators.\n",
        "\n",
        "- `OnInit()`: This function is called once when the program is 'init'ialized. It is used to set up initial parameters and perform any necessary initialization steps.\n",
        "\n",
        "- `OnDeinit()`: This function is called once when the program is closed or removed from the chart. It is used to perform any necessary cleanup or closing actions. (Deinitialized)\n",
        "\n",
        "- `OnTimer()`: This function is called periodically based on a timer that the program sets up. It can be useful for scheduling actions or for performing periodic updates.\n",
        "\n",
        "- `OnTrade()`: This function is called every time a trade operation is performed, such as opening or closing a position. It can be used to monitor trade activity or to automate trading decisions.\n",
        "\n",
        "- `OnBookEvent()`: This function is called when a book event occurs, such as a change in the order book or a new trade. It can be used for order book analysis or for monitoring real-time market activity.\n",
        "\n",
        "These are just a few examples of the many functions available in MQL5. Each function has its own unique purpose and can be used to perform specific tasks within a trading program."
      ],
      "metadata": {
        "id": "r4N00MeiBlOe"
      }
    },
    {
      "cell_type": "code",
      "source": [],
      "metadata": {
        "id": "tWKBeavrBpBo"
      },
      "execution_count": null,
      "outputs": []
    },
    {
      "cell_type": "markdown",
      "source": [],
      "metadata": {
        "id": "hG_JSVY5Blj4"
      }
    },
    {
      "cell_type": "code",
      "source": [],
      "metadata": {
        "id": "ZPlyWuObBl7a"
      },
      "execution_count": null,
      "outputs": []
    }
  ]
}